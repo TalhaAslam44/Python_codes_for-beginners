{
 "cells": [
  {
   "cell_type": "code",
   "execution_count": null,
   "id": "18e06093",
   "metadata": {},
   "outputs": [],
   "source": [
    "#String is a data type in python. Any thing written in single or double quotes.\n",
    "#Elements may be letter, numbers, SPecial character."
   ]
  },
  {
   "cell_type": "code",
   "execution_count": 9,
   "id": "2d4465e3",
   "metadata": {},
   "outputs": [
    {
     "data": {
      "text/plain": [
       "str"
      ]
     },
     "execution_count": 9,
     "metadata": {},
     "output_type": "execute_result"
    }
   ],
   "source": [
    "x = 'Lovely Weather'\n",
    "type(x)"
   ]
  },
  {
   "cell_type": "code",
   "execution_count": 10,
   "id": "860fd996",
   "metadata": {},
   "outputs": [],
   "source": [
    "#Length of string No. Of elements spaces will be counted too"
   ]
  },
  {
   "cell_type": "code",
   "execution_count": 11,
   "id": "18bf4048",
   "metadata": {},
   "outputs": [
    {
     "data": {
      "text/plain": [
       "'Lovely Weather'"
      ]
     },
     "execution_count": 11,
     "metadata": {},
     "output_type": "execute_result"
    }
   ],
   "source": [
    "x"
   ]
  },
  {
   "cell_type": "code",
   "execution_count": 12,
   "id": "22da51ca",
   "metadata": {},
   "outputs": [
    {
     "data": {
      "text/plain": [
       "14"
      ]
     },
     "execution_count": 12,
     "metadata": {},
     "output_type": "execute_result"
    }
   ],
   "source": [
    "len(x)"
   ]
  },
  {
   "cell_type": "code",
   "execution_count": 13,
   "id": "8b32efb2",
   "metadata": {},
   "outputs": [],
   "source": [
    "x= 'maths' ; y='astronomy' ; z='space'"
   ]
  },
  {
   "cell_type": "code",
   "execution_count": 14,
   "id": "46a108af",
   "metadata": {},
   "outputs": [
    {
     "name": "stdout",
     "output_type": "stream",
     "text": [
      "maths astronomy space\n"
     ]
    }
   ],
   "source": [
    "print(x,y,z)"
   ]
  },
  {
   "cell_type": "code",
   "execution_count": 16,
   "id": "fd6b7b5c",
   "metadata": {},
   "outputs": [],
   "source": [
    "# Tab(t)\n",
    "A = 'Maths\\tAstronomy\\t\\t\\t\\tSpace'"
   ]
  },
  {
   "cell_type": "code",
   "execution_count": 17,
   "id": "6cd15e1a",
   "metadata": {},
   "outputs": [
    {
     "name": "stdout",
     "output_type": "stream",
     "text": [
      "Maths\tAstronomy\t\t\t\tSpace\n"
     ]
    }
   ],
   "source": [
    "print(A)"
   ]
  },
  {
   "cell_type": "code",
   "execution_count": 18,
   "id": "df1e6eba",
   "metadata": {},
   "outputs": [],
   "source": [
    "#Escape String"
   ]
  },
  {
   "cell_type": "code",
   "execution_count": 21,
   "id": "a5a7e078",
   "metadata": {},
   "outputs": [],
   "source": [
    "A = 'This is Mercury which is a planet.\\nThis pluto which is not a planet'"
   ]
  },
  {
   "cell_type": "code",
   "execution_count": 22,
   "id": "9008f71e",
   "metadata": {},
   "outputs": [
    {
     "data": {
      "text/plain": [
       "'This is Mercury which is a planet.\\nThis pluto which is not a planet'"
      ]
     },
     "execution_count": 22,
     "metadata": {},
     "output_type": "execute_result"
    }
   ],
   "source": [
    "A"
   ]
  },
  {
   "cell_type": "code",
   "execution_count": 23,
   "id": "cbfc88f7",
   "metadata": {},
   "outputs": [
    {
     "name": "stdout",
     "output_type": "stream",
     "text": [
      "This is Mercury which is a planet.\n",
      "This pluto which is not a planet\n"
     ]
    }
   ],
   "source": [
    "print(A)"
   ]
  },
  {
   "cell_type": "code",
   "execution_count": 68,
   "id": "e7fa9619",
   "metadata": {},
   "outputs": [
    {
     "data": {
      "text/plain": [
       "'This is a Saturn and this is Mars'"
      ]
     },
     "execution_count": 68,
     "metadata": {},
     "output_type": "execute_result"
    }
   ],
   "source": [
    "#Adding of strings\n",
    "x = 'Saturn '\n",
    "'This is a '+ x  +'and this is Mars'"
   ]
  },
  {
   "cell_type": "code",
   "execution_count": 47,
   "id": "041d2d32",
   "metadata": {},
   "outputs": [
    {
     "data": {
      "text/plain": [
       "'this is a 20 course'"
      ]
     },
     "execution_count": 47,
     "metadata": {},
     "output_type": "execute_result"
    }
   ],
   "source": [
    "x = 20 \n",
    "'this is a '+  str(x) + ' course'"
   ]
  },
  {
   "cell_type": "code",
   "execution_count": 44,
   "id": "7a011a5f",
   "metadata": {},
   "outputs": [],
   "source": [
    "# Eval command eval('a+b') = eval('a') + eval('b')"
   ]
  },
  {
   "cell_type": "code",
   "execution_count": 45,
   "id": "57706f69",
   "metadata": {},
   "outputs": [
    {
     "data": {
      "text/plain": [
       "5"
      ]
     },
     "execution_count": 45,
     "metadata": {},
     "output_type": "execute_result"
    }
   ],
   "source": [
    "eval('2') + eval('3')"
   ]
  },
  {
   "cell_type": "code",
   "execution_count": 50,
   "id": "89736530",
   "metadata": {},
   "outputs": [
    {
     "name": "stdout",
     "output_type": "stream",
     "text": [
      "3\n"
     ]
    }
   ],
   "source": [
    "x= 'a a a b b b  B C D E'\n",
    "print(x.count('a'))"
   ]
  },
  {
   "cell_type": "code",
   "execution_count": 51,
   "id": "85c8d53e",
   "metadata": {},
   "outputs": [
    {
     "data": {
      "text/plain": [
       "'Abelian groups'"
      ]
     },
     "execution_count": 51,
     "metadata": {},
     "output_type": "execute_result"
    }
   ],
   "source": [
    "# Replace Command\n",
    "x = 'Abelian group@'\n",
    "x.replace('@','s')"
   ]
  },
  {
   "cell_type": "code",
   "execution_count": 52,
   "id": "5ef74f36",
   "metadata": {},
   "outputs": [],
   "source": [
    "#slicing of a list [a:b] = [a, b]"
   ]
  },
  {
   "cell_type": "code",
   "execution_count": 53,
   "id": "a1a50fcf",
   "metadata": {},
   "outputs": [],
   "source": [
    "D= ['Jupiter', 'Beatlegeuse', 'uranus', 'europa']"
   ]
  },
  {
   "cell_type": "code",
   "execution_count": 54,
   "id": "6c50af8f",
   "metadata": {},
   "outputs": [
    {
     "data": {
      "text/plain": [
       "['Beatlegeuse', 'uranus']"
      ]
     },
     "execution_count": 54,
     "metadata": {},
     "output_type": "execute_result"
    }
   ],
   "source": [
    "D[1:3]"
   ]
  },
  {
   "cell_type": "code",
   "execution_count": 55,
   "id": "8e5e1832",
   "metadata": {},
   "outputs": [
    {
     "data": {
      "text/plain": [
       "['Jupiter', 'Beatlegeuse', 'uranus', 'europa']"
      ]
     },
     "execution_count": 55,
     "metadata": {},
     "output_type": "execute_result"
    }
   ],
   "source": [
    "D[0:4]"
   ]
  },
  {
   "cell_type": "code",
   "execution_count": 56,
   "id": "fad1ed5c",
   "metadata": {},
   "outputs": [
    {
     "data": {
      "text/plain": [
       "'Jam'"
      ]
     },
     "execution_count": 56,
     "metadata": {},
     "output_type": "execute_result"
    }
   ],
   "source": [
    "x = 'James Web Telescope'\n",
    "x[0:3]"
   ]
  },
  {
   "cell_type": "code",
   "execution_count": 57,
   "id": "b5974340",
   "metadata": {},
   "outputs": [
    {
     "data": {
      "text/plain": [
       "'James Web Telescope'"
      ]
     },
     "execution_count": 57,
     "metadata": {},
     "output_type": "execute_result"
    }
   ],
   "source": [
    "x[:20]"
   ]
  },
  {
   "cell_type": "code",
   "execution_count": 58,
   "id": "33543294",
   "metadata": {},
   "outputs": [],
   "source": [
    "#stride[a::b] here a is starting poitn and b is increment"
   ]
  },
  {
   "cell_type": "code",
   "execution_count": 59,
   "id": "3388f06c",
   "metadata": {},
   "outputs": [
    {
     "data": {
      "text/plain": [
       "'James Web Telescope'"
      ]
     },
     "execution_count": 59,
     "metadata": {},
     "output_type": "execute_result"
    }
   ],
   "source": [
    "x"
   ]
  },
  {
   "cell_type": "code",
   "execution_count": 60,
   "id": "94746439",
   "metadata": {},
   "outputs": [
    {
     "data": {
      "text/plain": [
       "'JmsWbTlsoe'"
      ]
     },
     "execution_count": 60,
     "metadata": {},
     "output_type": "execute_result"
    }
   ],
   "source": [
    "x[0::2]"
   ]
  },
  {
   "cell_type": "code",
   "execution_count": 61,
   "id": "95737e3c",
   "metadata": {},
   "outputs": [
    {
     "data": {
      "text/plain": [
       "'JWle'"
      ]
     },
     "execution_count": 61,
     "metadata": {},
     "output_type": "execute_result"
    }
   ],
   "source": [
    "x[0::6]"
   ]
  },
  {
   "cell_type": "code",
   "execution_count": 62,
   "id": "6c169884",
   "metadata": {},
   "outputs": [],
   "source": [
    "#spliting command it splits elements of string"
   ]
  },
  {
   "cell_type": "code",
   "execution_count": 64,
   "id": "76a5d888",
   "metadata": {},
   "outputs": [],
   "source": [
    "x = 'Europa is a moon of jupiter'\n",
    "y= x.split()"
   ]
  },
  {
   "cell_type": "code",
   "execution_count": 65,
   "id": "cd49462b",
   "metadata": {},
   "outputs": [
    {
     "data": {
      "text/plain": [
       "['Europa', 'is', 'a', 'moon', 'of', 'jupiter']"
      ]
     },
     "execution_count": 65,
     "metadata": {},
     "output_type": "execute_result"
    }
   ],
   "source": [
    "y"
   ]
  },
  {
   "cell_type": "code",
   "execution_count": 66,
   "id": "e4cf3edb",
   "metadata": {},
   "outputs": [
    {
     "data": {
      "text/plain": [
       "6"
      ]
     },
     "execution_count": 66,
     "metadata": {},
     "output_type": "execute_result"
    }
   ],
   "source": [
    "len(y)"
   ]
  },
  {
   "cell_type": "code",
   "execution_count": 67,
   "id": "6376352d",
   "metadata": {},
   "outputs": [
    {
     "data": {
      "text/plain": [
       "27"
      ]
     },
     "execution_count": 67,
     "metadata": {},
     "output_type": "execute_result"
    }
   ],
   "source": [
    "len(x)"
   ]
  },
  {
   "cell_type": "code",
   "execution_count": 69,
   "id": "913fbacc",
   "metadata": {},
   "outputs": [
    {
     "data": {
      "text/plain": [
       "['Europa', 'is', 'a']"
      ]
     },
     "execution_count": 69,
     "metadata": {},
     "output_type": "execute_result"
    }
   ],
   "source": [
    "y[0:3]"
   ]
  },
  {
   "cell_type": "code",
   "execution_count": 71,
   "id": "1e3da9df",
   "metadata": {},
   "outputs": [
    {
     "data": {
      "text/plain": [
       "['a']"
      ]
     },
     "execution_count": 71,
     "metadata": {},
     "output_type": "execute_result"
    }
   ],
   "source": [
    "y[2:3:4]"
   ]
  },
  {
   "cell_type": "code",
   "execution_count": 72,
   "id": "a10a40c2",
   "metadata": {},
   "outputs": [
    {
     "data": {
      "text/plain": [
       "['Saturn']"
      ]
     },
     "execution_count": 72,
     "metadata": {},
     "output_type": "execute_result"
    }
   ],
   "source": [
    "x.split()"
   ]
  },
  {
   "cell_type": "code",
   "execution_count": 73,
   "id": "c80626dd",
   "metadata": {},
   "outputs": [
    {
     "data": {
      "text/plain": [
       "['Jupiter', 'is', 'a', 'failed', 'star']"
      ]
     },
     "execution_count": 73,
     "metadata": {},
     "output_type": "execute_result"
    }
   ],
   "source": [
    "x = 'Jupiter is a failed star'\n",
    "x.split()"
   ]
  },
  {
   "cell_type": "code",
   "execution_count": 76,
   "id": "015bd214",
   "metadata": {},
   "outputs": [
    {
     "data": {
      "text/plain": [
       "'J u p i t e r   i s   a   f a i l e d   s t a r'"
      ]
     },
     "execution_count": 76,
     "metadata": {},
     "output_type": "execute_result"
    }
   ],
   "source": [
    "' ' .join(x)"
   ]
  },
  {
   "cell_type": "markdown",
   "id": "26a7dba4",
   "metadata": {},
   "source": [
    "# formitting"
   ]
  },
  {
   "cell_type": "code",
   "execution_count": 77,
   "id": "76d58f9e",
   "metadata": {},
   "outputs": [
    {
     "data": {
      "text/plain": [
       "'The student name is Talha and the grade is B'"
      ]
     },
     "execution_count": 77,
     "metadata": {},
     "output_type": "execute_result"
    }
   ],
   "source": [
    "name  = \"Talha\" ; grade = \"B\"\n",
    "\"The student name is {} and the grade is {}\".format(name ,grade)"
   ]
  },
  {
   "cell_type": "code",
   "execution_count": 85,
   "id": "3f90bd4e",
   "metadata": {},
   "outputs": [
    {
     "data": {
      "text/plain": [
       "'i saw Lion, Tiger and Wolf!'"
      ]
     },
     "execution_count": 85,
     "metadata": {},
     "output_type": "execute_result"
    }
   ],
   "source": [
    "Animals = [\"Lion\", \"Tiger\", \"Wolf\", \"Leopard\"]\n",
    "safari = \"i saw {}, {} and {}!\"\n",
    "safari.format(Animals[0],Animals[1],Animals[2])"
   ]
  },
  {
   "cell_type": "code",
   "execution_count": 88,
   "id": "e69118f7",
   "metadata": {},
   "outputs": [
    {
     "data": {
      "text/plain": [
       "'i saw {}, {} and {}!'"
      ]
     },
     "execution_count": 88,
     "metadata": {},
     "output_type": "execute_result"
    }
   ],
   "source": [
    "safari"
   ]
  },
  {
   "cell_type": "code",
   "execution_count": 89,
   "id": "9b14bf94",
   "metadata": {},
   "outputs": [
    {
     "data": {
      "text/plain": [
       "'i saw Lion, Tiger and Wolf!'"
      ]
     },
     "execution_count": 89,
     "metadata": {},
     "output_type": "execute_result"
    }
   ],
   "source": [
    "safari.format(*Animals)"
   ]
  },
  {
   "cell_type": "code",
   "execution_count": 90,
   "id": "adb1359a",
   "metadata": {},
   "outputs": [
    {
     "data": {
      "text/plain": [
       "'i saw {}, {} and {}!'"
      ]
     },
     "execution_count": 90,
     "metadata": {},
     "output_type": "execute_result"
    }
   ],
   "source": [
    "safari"
   ]
  },
  {
   "cell_type": "code",
   "execution_count": 100,
   "id": "4333e44c",
   "metadata": {},
   "outputs": [],
   "source": [
    "A= \"Talha\"\n",
    "B= \"22\"\n",
    "x= f'Hi, my name is {A} and i am {B} years old' "
   ]
  },
  {
   "cell_type": "code",
   "execution_count": 101,
   "id": "b6902589",
   "metadata": {},
   "outputs": [
    {
     "name": "stdout",
     "output_type": "stream",
     "text": [
      "Hi, my name is Talha and i am 22 years old\n"
     ]
    }
   ],
   "source": [
    "print(x)"
   ]
  },
  {
   "cell_type": "code",
   "execution_count": 107,
   "id": "cc9060d4",
   "metadata": {},
   "outputs": [
    {
     "data": {
      "text/plain": [
       "'i saw WOLF, Lion and WOLF!'"
      ]
     },
     "execution_count": 107,
     "metadata": {},
     "output_type": "execute_result"
    }
   ],
   "source": [
    "Animals = [\"Lion\", \"Tiger\", \"Wolf\", \"Leopard\"]\n",
    "safari = \"i saw {}, {} and {}!\"\n",
    "safari.format(Animals[2].upper(),Animals[0].capitalize(),Animals[2].upper())"
   ]
  },
  {
   "cell_type": "code",
   "execution_count": 109,
   "id": "324da5b3",
   "metadata": {},
   "outputs": [
    {
     "data": {
      "text/plain": [
       "210"
      ]
     },
     "execution_count": 109,
     "metadata": {},
     "output_type": "execute_result"
    }
   ],
   "source": [
    "num = \"200\"\n",
    "eval(num) + 10"
   ]
  },
  {
   "cell_type": "code",
   "execution_count": 110,
   "id": "3288176f",
   "metadata": {},
   "outputs": [
    {
     "data": {
      "text/plain": [
       "'10 + 20 + 30 '"
      ]
     },
     "execution_count": 110,
     "metadata": {},
     "output_type": "execute_result"
    }
   ],
   "source": [
    "num = \"200\"\n",
    "eval(num) + 10\n",
    "numbers = [10, 20, 30]\n",
    "\"{} + {} + {} \".format(*numbers)"
   ]
  },
  {
   "cell_type": "code",
   "execution_count": 111,
   "id": "5186cb77",
   "metadata": {},
   "outputs": [
    {
     "data": {
      "text/plain": [
       "[10, 20, 30]"
      ]
     },
     "execution_count": 111,
     "metadata": {},
     "output_type": "execute_result"
    }
   ],
   "source": [
    "numbers"
   ]
  },
  {
   "cell_type": "code",
   "execution_count": 112,
   "id": "c26c5242",
   "metadata": {},
   "outputs": [
    {
     "data": {
      "text/plain": [
       "60"
      ]
     },
     "execution_count": 112,
     "metadata": {},
     "output_type": "execute_result"
    }
   ],
   "source": [
    "num = \"200\"\n",
    "eval(num) + 10\n",
    "numbers = [10, 20, 30]\n",
    "eval(\"{} + {} + {} \".format(*numbers))"
   ]
  },
  {
   "cell_type": "code",
   "execution_count": 113,
   "id": "beec7144",
   "metadata": {},
   "outputs": [
    {
     "data": {
      "text/plain": [
       "30"
      ]
     },
     "execution_count": 113,
     "metadata": {},
     "output_type": "execute_result"
    }
   ],
   "source": [
    "num = \"200\"\n",
    "eval(num) + 10\n",
    "numbers = [10, 20, 30]\n",
    "eval(\"{0} + {0} + {0} \".format(*numbers))"
   ]
  },
  {
   "cell_type": "code",
   "execution_count": 114,
   "id": "e4b4479d",
   "metadata": {},
   "outputs": [
    {
     "data": {
      "text/plain": [
       "40"
      ]
     },
     "execution_count": 114,
     "metadata": {},
     "output_type": "execute_result"
    }
   ],
   "source": [
    "num = \"200\"\n",
    "eval(num) + 10\n",
    "numbers = [10, 20, 30, 50]\n",
    "eval(\"{0} + {0} + {0} + {0}\".format(*numbers))"
   ]
  },
  {
   "cell_type": "code",
   "execution_count": 115,
   "id": "9920c575",
   "metadata": {},
   "outputs": [
    {
     "data": {
      "text/plain": [
       "70"
      ]
     },
     "execution_count": 115,
     "metadata": {},
     "output_type": "execute_result"
    }
   ],
   "source": [
    "num = \"200\"\n",
    "eval(num) + 10\n",
    "numbers = [10, 20, 30, 50]\n",
    "eval(\"{2} + {1} + {0} + {0}\".format(*numbers))"
   ]
  },
  {
   "cell_type": "code",
   "execution_count": 118,
   "id": "995f0d75",
   "metadata": {},
   "outputs": [
    {
     "data": {
      "text/plain": [
       "'10 * 20 =200'"
      ]
     },
     "execution_count": 118,
     "metadata": {},
     "output_type": "execute_result"
    }
   ],
   "source": [
    "\"%d * %d =%d\" %(10, 20,(10*20))"
   ]
  },
  {
   "cell_type": "code",
   "execution_count": 122,
   "id": "64fb7caf",
   "metadata": {},
   "outputs": [
    {
     "data": {
      "text/plain": [
       "'10 * 20 =0.50'"
      ]
     },
     "execution_count": 122,
     "metadata": {},
     "output_type": "execute_result"
    }
   ],
   "source": [
    "\"%d * %d =%.2f\" %(10, 20,(10/20))"
   ]
  },
  {
   "cell_type": "code",
   "execution_count": 123,
   "id": "49cf1887",
   "metadata": {},
   "outputs": [
    {
     "data": {
      "text/plain": [
       "'10 * 20 =0.500'"
      ]
     },
     "execution_count": 123,
     "metadata": {},
     "output_type": "execute_result"
    }
   ],
   "source": [
    "\"%d * %d =%.3f\" %(10, 20,(10/20))"
   ]
  },
  {
   "cell_type": "code",
   "execution_count": 124,
   "id": "8ff313b3",
   "metadata": {},
   "outputs": [
    {
     "data": {
      "text/plain": [
       "'The length of this word Wonderful is 9'"
      ]
     },
     "execution_count": 124,
     "metadata": {},
     "output_type": "execute_result"
    }
   ],
   "source": [
    "word = \"Wonderful\"\n",
    "\"The length of this word {} is {}\".format(word, len(word))"
   ]
  },
  {
   "cell_type": "code",
   "execution_count": 125,
   "id": "0066bcf1",
   "metadata": {},
   "outputs": [
    {
     "data": {
      "text/plain": [
       "'The length of this word W o n d e r f u l is 17'"
      ]
     },
     "execution_count": 125,
     "metadata": {},
     "output_type": "execute_result"
    }
   ],
   "source": [
    "word = \"W o n d e r f u l\"\n",
    "\"The length of this word {} is {}\".format(word, len(word))"
   ]
  },
  {
   "cell_type": "code",
   "execution_count": 126,
   "id": "f876f55b",
   "metadata": {},
   "outputs": [
    {
     "data": {
      "text/plain": [
       "'days left are  42.9'"
      ]
     },
     "execution_count": 126,
     "metadata": {},
     "output_type": "execute_result"
    }
   ],
   "source": [
    "\"days left are {num: .1f}\".format(num = 300/7)"
   ]
  },
  {
   "cell_type": "code",
   "execution_count": 127,
   "id": "9bc996e2",
   "metadata": {},
   "outputs": [
    {
     "data": {
      "text/plain": [
       "'days left are  42.85714'"
      ]
     },
     "execution_count": 127,
     "metadata": {},
     "output_type": "execute_result"
    }
   ],
   "source": [
    "\"days left are {num: .5f}\".format(num = 300/7)"
   ]
  },
  {
   "cell_type": "code",
   "execution_count": 134,
   "id": "21d350ba",
   "metadata": {},
   "outputs": [
    {
     "data": {
      "text/plain": [
       "'THIS IS A DOCSTRING THAT USE PYTHON 3.6 AND CANNOT FOR OLDER'"
      ]
     },
     "execution_count": 134,
     "metadata": {},
     "output_type": "execute_result"
    }
   ],
   "source": [
    "p1 = \"python\" ; p2 = \"older\"\n",
    "f\"\"\"this is a docstring that use {p1} 3.6 and cannot for {p2}\"\"\".replace(\"\\n\",\"\").upper()"
   ]
  },
  {
   "cell_type": "code",
   "execution_count": null,
   "id": "30e27f4a",
   "metadata": {},
   "outputs": [],
   "source": []
  },
  {
   "cell_type": "code",
   "execution_count": null,
   "id": "b88efe3b",
   "metadata": {},
   "outputs": [],
   "source": []
  },
  {
   "cell_type": "code",
   "execution_count": null,
   "id": "18726116",
   "metadata": {},
   "outputs": [],
   "source": []
  },
  {
   "cell_type": "code",
   "execution_count": null,
   "id": "46236c5f",
   "metadata": {},
   "outputs": [],
   "source": []
  },
  {
   "cell_type": "code",
   "execution_count": null,
   "id": "f9ca368f",
   "metadata": {},
   "outputs": [],
   "source": []
  },
  {
   "cell_type": "code",
   "execution_count": null,
   "id": "0aae1efe",
   "metadata": {},
   "outputs": [],
   "source": []
  },
  {
   "cell_type": "code",
   "execution_count": null,
   "id": "f6312855",
   "metadata": {},
   "outputs": [],
   "source": []
  },
  {
   "cell_type": "code",
   "execution_count": null,
   "id": "de2e92d6",
   "metadata": {},
   "outputs": [],
   "source": []
  },
  {
   "cell_type": "code",
   "execution_count": null,
   "id": "d9d0f0c0",
   "metadata": {},
   "outputs": [],
   "source": []
  }
 ],
 "metadata": {
  "kernelspec": {
   "display_name": "Python 3 (ipykernel)",
   "language": "python",
   "name": "python3"
  },
  "language_info": {
   "codemirror_mode": {
    "name": "ipython",
    "version": 3
   },
   "file_extension": ".py",
   "mimetype": "text/x-python",
   "name": "python",
   "nbconvert_exporter": "python",
   "pygments_lexer": "ipython3",
   "version": "3.9.12"
  }
 },
 "nbformat": 4,
 "nbformat_minor": 5
}
