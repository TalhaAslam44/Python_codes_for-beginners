{
 "cells": [
  {
   "cell_type": "code",
   "execution_count": null,
   "id": "909df7b0",
   "metadata": {},
   "outputs": [],
   "source": [
    "#function\n",
    "# can be called anywhere in the notebooks\n",
    "#must be given a name"
   ]
  },
  {
   "cell_type": "code",
   "execution_count": 7,
   "id": "05a5e7e7",
   "metadata": {},
   "outputs": [
    {
     "data": {
      "text/plain": [
       "76"
      ]
     },
     "execution_count": 7,
     "metadata": {},
     "output_type": "execute_result"
    }
   ],
   "source": [
    "def aqr(val1,val2):\n",
    "    return val1+val2\n",
    "aqr(66,10)\n"
   ]
  },
  {
   "cell_type": "code",
   "execution_count": 1,
   "id": "86d00f64",
   "metadata": {},
   "outputs": [
    {
     "data": {
      "text/plain": [
       "8000"
      ]
     },
     "execution_count": 1,
     "metadata": {},
     "output_type": "execute_result"
    }
   ],
   "source": [
    "def mult(a,b):\n",
    "    return a**b\n",
    "mult(20,3)"
   ]
  },
  {
   "cell_type": "code",
   "execution_count": 1,
   "id": "8163ae6b",
   "metadata": {},
   "outputs": [
    {
     "name": "stdout",
     "output_type": "stream",
     "text": [
      "Enter a number: 4\n",
      "16\n",
      "64\n",
      "256\n",
      "336\n"
     ]
    }
   ],
   "source": [
    "num = eval(input('Enter a number: '))\n",
    "def squared(num):\n",
    "    return num**2\n",
    "def cubed(num):\n",
    "    return num**3\n",
    "def quad(num):\n",
    "    return num**4\n",
    "v=4\n",
    "print(squared(v))\n",
    "print(cubed(v))\n",
    "print(quad(v))\n",
    "total = squared(v) + cubed(v) + quad(v)\n",
    "print(total)"
   ]
  },
  {
   "cell_type": "code",
   "execution_count": 14,
   "id": "c6885e9a",
   "metadata": {},
   "outputs": [
    {
     "name": "stdout",
     "output_type": "stream",
     "text": [
      "enter time: 7\n",
      "good morning\n"
     ]
    }
   ],
   "source": [
    "time = eval(input('enter time: '))\n",
    "if time>=6 and time<12:\n",
    "    print('good morning')\n",
    "elif time>=12 and time <18:\n",
    "    print('Afternoon')\n",
    "elif time>=18 and time<21:\n",
    "    print(' good evening')\n",
    "else:\n",
    "    print('good night')\n",
    "        "
   ]
  },
  {
   "cell_type": "code",
   "execution_count": 21,
   "id": "67c88ee7",
   "metadata": {},
   "outputs": [
    {
     "name": "stdout",
     "output_type": "stream",
     "text": [
      "enter time: 19\n",
      " good evening\n",
      "None\n"
     ]
    }
   ],
   "source": [
    "def greet():\n",
    "    time = eval(input('enter time: '))\n",
    "    if time>=6 and time<12:\n",
    "        print('good morning')\n",
    "    elif time>=12 and time <18:\n",
    "        print('Afternoon')\n",
    "    elif time>=18 and time<21:\n",
    "        print(' good evening')\n",
    "    else:\n",
    "        print('good night')\n",
    "print(greet())"
   ]
  },
  {
   "cell_type": "code",
   "execution_count": 23,
   "id": "5775c974",
   "metadata": {},
   "outputs": [
    {
     "name": "stdout",
     "output_type": "stream",
     "text": [
      "enter time: 56\n",
      "good night\n",
      "None\n"
     ]
    }
   ],
   "source": [
    "def greet():\n",
    "    time = eval(input('enter time: '))\n",
    "    if time>=6 and time<12:\n",
    "        print('good morning')\n",
    "    elif time>=12 and time <18:\n",
    "        print('Afternoon')\n",
    "    elif time>=18 and time<21:\n",
    "        print(' good evening')\n",
    "    else:\n",
    "        print('good night')\n",
    "print(greet())"
   ]
  },
  {
   "cell_type": "code",
   "execution_count": 24,
   "id": "ef822ee2",
   "metadata": {},
   "outputs": [
    {
     "data": {
      "text/plain": [
       "68"
      ]
     },
     "execution_count": 24,
     "metadata": {},
     "output_type": "execute_result"
    }
   ],
   "source": [
    "a=(1, 7, 68, 42, 37)\n",
    "max(a)"
   ]
  },
  {
   "cell_type": "code",
   "execution_count": 25,
   "id": "16341ba6",
   "metadata": {},
   "outputs": [
    {
     "data": {
      "text/plain": [
       "1"
      ]
     },
     "execution_count": 25,
     "metadata": {},
     "output_type": "execute_result"
    }
   ],
   "source": [
    "min(a)"
   ]
  },
  {
   "cell_type": "code",
   "execution_count": 27,
   "id": "919c63d5",
   "metadata": {},
   "outputs": [
    {
     "data": {
      "text/plain": [
       "5"
      ]
     },
     "execution_count": 27,
     "metadata": {},
     "output_type": "execute_result"
    }
   ],
   "source": [
    "round(4.57)"
   ]
  },
  {
   "cell_type": "code",
   "execution_count": 28,
   "id": "dbb839e4",
   "metadata": {},
   "outputs": [
    {
     "data": {
      "text/plain": [
       "[1, 7, 37, 42, 68]"
      ]
     },
     "execution_count": 28,
     "metadata": {},
     "output_type": "execute_result"
    }
   ],
   "source": [
    "sorted(a)"
   ]
  },
  {
   "cell_type": "code",
   "execution_count": null,
   "id": "3710c0a6",
   "metadata": {},
   "outputs": [],
   "source": [
    "eval"
   ]
  },
  {
   "cell_type": "code",
   "execution_count": 31,
   "id": "23c8d779",
   "metadata": {},
   "outputs": [
    {
     "data": {
      "text/plain": [
       "[6]"
      ]
     },
     "execution_count": 31,
     "metadata": {},
     "output_type": "execute_result"
    }
   ],
   "source": [
    "#x-4-2=0\n",
    "from sympy import symbols,solve\n",
    "x=symbols('x')\n",
    "expr=x-4-2\n",
    "sol=solve(expr)\n",
    "sol"
   ]
  },
  {
   "cell_type": "code",
   "execution_count": 33,
   "id": "3705777f",
   "metadata": {},
   "outputs": [
    {
     "data": {
      "text/plain": [
       "[2 - sqrt(6), 2 + sqrt(6)]"
      ]
     },
     "execution_count": 33,
     "metadata": {},
     "output_type": "execute_result"
    }
   ],
   "source": [
    "#x^2-4x-2=0\n",
    "from sympy import symbols,solve\n",
    "x=symbols('x')\n",
    "expr=x**2-4*x-2\n",
    "sol=solve(expr)\n",
    "sol"
   ]
  },
  {
   "cell_type": "code",
   "execution_count": 42,
   "id": "6089a886",
   "metadata": {},
   "outputs": [
    {
     "data": {
      "text/plain": [
       "[(1, 4), (4, 1)]"
      ]
     },
     "execution_count": 42,
     "metadata": {},
     "output_type": "execute_result"
    }
   ],
   "source": [
    "#x+y=5 , x^2+y^2=17\n",
    "import sympy as sym\n",
    "x,y=symbols('x,y')\n",
    "eq1=sym.Eq(x+y,5)\n",
    "eq2=sym.Eq(x**2+y**2,17)\n",
    "sol=sym.solve([eq1,eq2],(x,y))\n",
    "sol"
   ]
  },
  {
   "cell_type": "code",
   "execution_count": null,
   "id": "1249c8f0",
   "metadata": {},
   "outputs": [],
   "source": []
  },
  {
   "cell_type": "code",
   "execution_count": null,
   "id": "5b5a9482",
   "metadata": {},
   "outputs": [],
   "source": []
  },
  {
   "cell_type": "code",
   "execution_count": 43,
   "id": "4bc0bf02",
   "metadata": {},
   "outputs": [],
   "source": [
    "import numpy as np"
   ]
  },
  {
   "cell_type": "code",
   "execution_count": null,
   "id": "36abb6ea",
   "metadata": {},
   "outputs": [],
   "source": []
  },
  {
   "cell_type": "code",
   "execution_count": null,
   "id": "9b2dbd34",
   "metadata": {},
   "outputs": [],
   "source": []
  },
  {
   "cell_type": "code",
   "execution_count": null,
   "id": "e1c8ab4b",
   "metadata": {},
   "outputs": [],
   "source": []
  },
  {
   "cell_type": "code",
   "execution_count": null,
   "id": "3c91331c",
   "metadata": {},
   "outputs": [],
   "source": []
  },
  {
   "cell_type": "code",
   "execution_count": null,
   "id": "3f6ef2f6",
   "metadata": {},
   "outputs": [],
   "source": []
  },
  {
   "cell_type": "code",
   "execution_count": null,
   "id": "3303ce43",
   "metadata": {},
   "outputs": [],
   "source": []
  },
  {
   "cell_type": "code",
   "execution_count": null,
   "id": "e21e08eb",
   "metadata": {},
   "outputs": [],
   "source": []
  },
  {
   "cell_type": "code",
   "execution_count": null,
   "id": "c8a8c439",
   "metadata": {},
   "outputs": [],
   "source": []
  },
  {
   "cell_type": "code",
   "execution_count": null,
   "id": "519dadd4",
   "metadata": {},
   "outputs": [],
   "source": []
  },
  {
   "cell_type": "code",
   "execution_count": null,
   "id": "915bf476",
   "metadata": {},
   "outputs": [],
   "source": []
  }
 ],
 "metadata": {
  "kernelspec": {
   "display_name": "Python 3 (ipykernel)",
   "language": "python",
   "name": "python3"
  },
  "language_info": {
   "codemirror_mode": {
    "name": "ipython",
    "version": 3
   },
   "file_extension": ".py",
   "mimetype": "text/x-python",
   "name": "python",
   "nbconvert_exporter": "python",
   "pygments_lexer": "ipython3",
   "version": "3.9.12"
  }
 },
 "nbformat": 4,
 "nbformat_minor": 5
}
