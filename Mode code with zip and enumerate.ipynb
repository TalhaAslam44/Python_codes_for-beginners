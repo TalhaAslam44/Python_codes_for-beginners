{
 "cells": [
  {
   "cell_type": "code",
   "execution_count": null,
   "id": "fdb5de8c",
   "metadata": {},
   "outputs": [],
   "source": [
    "#Examples of loops"
   ]
  },
  {
   "cell_type": "code",
   "execution_count": 2,
   "id": "8db9d0e0",
   "metadata": {},
   "outputs": [
    {
     "name": "stdout",
     "output_type": "stream",
     "text": [
      "1 + 1 = 2\n",
      "2 + 2 = 4\n",
      "3 + 3 = 6\n",
      "4 + 4 = 8\n"
     ]
    }
   ],
   "source": [
    "a = 1 ; b = 1\n",
    "while a < 5:\n",
    "    while b < 5:\n",
    "        print(\"{} + {} = {}\".format(a, b, a+b))\n",
    "        a+=1; b+=1"
   ]
  },
  {
   "cell_type": "code",
   "execution_count": 6,
   "id": "e76f8ab3",
   "metadata": {},
   "outputs": [
    {
     "name": "stdout",
     "output_type": "stream",
     "text": [
      "1 + 1 = 2\n",
      "1 + 2 = 3\n",
      "1 + 3 = 4\n",
      "1 + 4 = 5\n",
      "2 + 1 = 3\n",
      "2 + 2 = 4\n",
      "2 + 3 = 5\n",
      "2 + 4 = 6\n",
      "3 + 1 = 4\n",
      "3 + 2 = 5\n",
      "3 + 3 = 6\n",
      "3 + 4 = 7\n",
      "4 + 1 = 5\n",
      "4 + 2 = 6\n",
      "4 + 3 = 7\n",
      "4 + 4 = 8\n"
     ]
    }
   ],
   "source": [
    "for a in range(1,5):\n",
    "    for b in range(1,5):\n",
    "        print(\"{} + {} = {}\".format(a, b, a+b))"
   ]
  },
  {
   "cell_type": "code",
   "execution_count": 12,
   "id": "360044b9",
   "metadata": {},
   "outputs": [
    {
     "name": "stdout",
     "output_type": "stream",
     "text": [
      "while x =  0\n",
      "50\n",
      "60\n",
      "70\n",
      "80\n",
      "while x =  5\n",
      "55\n",
      "65\n",
      "75\n",
      "85\n",
      "while x =  10\n",
      "60\n",
      "70\n",
      "80\n",
      "90\n",
      "while x =  15\n",
      "65\n",
      "75\n",
      "85\n",
      "95\n",
      "while x =  20\n",
      "70\n",
      "80\n",
      "90\n",
      "100\n"
     ]
    }
   ],
   "source": [
    "x = 0\n",
    "while x <21:\n",
    "    print(\"while x = \", x)\n",
    "    for g in [50, 60, 70, 80]:\n",
    "        y = x+g\n",
    "        print(y)\n",
    "    x+=5"
   ]
  },
  {
   "cell_type": "code",
   "execution_count": 17,
   "id": "9b99a11d",
   "metadata": {},
   "outputs": [
    {
     "name": "stdout",
     "output_type": "stream",
     "text": [
      "even is   0\n",
      "odd is  1\n",
      "even is   2\n",
      "odd is  3\n",
      "even is   4\n",
      "odd is  5\n",
      "even is   6\n",
      "odd is  7\n",
      "even is   8\n",
      "odd is  9\n",
      "even is   10\n",
      "odd is  11\n",
      "even is   12\n",
      "odd is  13\n",
      "even is   14\n",
      "odd is  15\n",
      "even is   16\n",
      "odd is  17\n",
      "even is   18\n",
      "odd is  19\n"
     ]
    }
   ],
   "source": [
    "for i in range(20):\n",
    "    if i % 2 ==0:\n",
    "        print(\"even is  \",i)\n",
    "    else:\n",
    "        print(\"odd is \",i)"
   ]
  },
  {
   "cell_type": "code",
   "execution_count": 15,
   "id": "5cf87844",
   "metadata": {},
   "outputs": [
    {
     "name": "stdout",
     "output_type": "stream",
     "text": [
      "0 = Sunday\n",
      "1 = Monday\n",
      "2 = Tuesday\n",
      "3 = Wednesday\n",
      "4 = Thursday\n",
      "5 = Friday\n",
      "6 = Saturday\n"
     ]
    }
   ],
   "source": [
    "a = 0\n",
    "while a < 7:\n",
    "    for b in ['Sunday', 'Monday', 'Tuesday', 'Wednesday', 'Thursday', 'Friday', 'Saturday']:\n",
    "        print('{} = {}'.format(a,b))\n",
    "        a+=1"
   ]
  },
  {
   "cell_type": "code",
   "execution_count": 19,
   "id": "cf459f96",
   "metadata": {},
   "outputs": [
    {
     "name": "stdout",
     "output_type": "stream",
     "text": [
      "a is greater than b\n",
      "a is less than b\n",
      "both are equal\n",
      "a is less than b\n",
      "a is less than b\n",
      "a is less than b\n",
      "a is less than b\n",
      "a is less than b\n"
     ]
    }
   ],
   "source": [
    "# comparing the elements of two lists\n",
    "A = [4, 5, 8, 9, 10, 44, 56, 77]\n",
    "B = [3, 6, 8, 11, 55, 66, 88, 99]\n",
    "x = 0\n",
    "while x < len(A):\n",
    "    if A[x] == B[x]:\n",
    "        print('both are equal')\n",
    "    elif A[x] > B[x]:\n",
    "        print('a is greater than b')\n",
    "    else:\n",
    "        print('a is less than b')\n",
    "    x+=1\n",
    "    "
   ]
  },
  {
   "cell_type": "code",
   "execution_count": 20,
   "id": "0d3e52be",
   "metadata": {},
   "outputs": [
    {
     "name": "stdout",
     "output_type": "stream",
     "text": [
      "a is greater than b\n",
      "a is less than b\n",
      "a is less than b\n",
      "a is less than b\n",
      "a is less than b\n",
      "a is less than b\n",
      "a is less than b\n",
      "a is less than b\n"
     ]
    }
   ],
   "source": [
    "# comparing the elements of two lists\n",
    "A = [4, 5, 8, 9, 10, 44, 56, 77]\n",
    "B = [3, 6, 8, 11, 55, 66, 88, 99]\n",
    "x = 0\n",
    "while x < len(A):\n",
    "    if A[0] == B[x]:\n",
    "        print('both are equal')\n",
    "    elif A[x] > B[x]:\n",
    "        print('a is greater than b')\n",
    "    else:\n",
    "        print('a is less than b')\n",
    "    x+=1\n",
    "    "
   ]
  },
  {
   "cell_type": "code",
   "execution_count": 24,
   "id": "088dd5fa",
   "metadata": {},
   "outputs": [
    {
     "name": "stdout",
     "output_type": "stream",
     "text": [
      "31\n",
      "32\n",
      "33\n",
      "34\n",
      "35\n",
      "36\n",
      "37\n",
      "38\n",
      "39\n",
      "40\n",
      "41\n",
      "42\n",
      "43\n",
      "44\n",
      "45\n",
      "46\n",
      "47\n",
      "48\n",
      "49\n"
     ]
    }
   ],
   "source": [
    "# break, pass, continue\n",
    "# break stopsa loop at a certain point\n",
    "# pass prevenets a code from being run at all\n",
    "#continue runs a loop at a certain point\n",
    "for x in range(50):\n",
    "    if x > 20 and x > 30:\n",
    "        if x== 35:\n",
    "            pass\n",
    "        print(x)\n",
    "        x+=1"
   ]
  },
  {
   "cell_type": "code",
   "execution_count": 25,
   "id": "3dd183cd",
   "metadata": {},
   "outputs": [
    {
     "name": "stdout",
     "output_type": "stream",
     "text": [
      "31\n",
      "32\n",
      "33\n",
      "34\n",
      "36\n",
      "37\n",
      "38\n",
      "39\n",
      "40\n",
      "41\n",
      "42\n",
      "43\n",
      "44\n",
      "45\n",
      "46\n",
      "47\n",
      "48\n",
      "49\n"
     ]
    }
   ],
   "source": [
    "for x in range(50):\n",
    "    if x > 20 and x > 30:\n",
    "        if x== 35:\n",
    "            continue\n",
    "        print(x)\n",
    "        x+=1"
   ]
  },
  {
   "cell_type": "code",
   "execution_count": 26,
   "id": "3a6500c3",
   "metadata": {},
   "outputs": [
    {
     "name": "stdout",
     "output_type": "stream",
     "text": [
      "31\n",
      "32\n",
      "33\n",
      "34\n"
     ]
    }
   ],
   "source": [
    "for x in range(50):\n",
    "    if x > 20 and x > 30:\n",
    "        if x== 35:\n",
    "            break\n",
    "        print(x)\n",
    "        x+=1"
   ]
  },
  {
   "cell_type": "code",
   "execution_count": 27,
   "id": "93642405",
   "metadata": {},
   "outputs": [
    {
     "name": "stdout",
     "output_type": "stream",
     "text": [
      "M\n",
      "A\n",
      "T\n",
      "H\n",
      "E\n",
      "M\n",
      "A\n",
      "T\n",
      "I\n",
      "C\n",
      "S\n"
     ]
    }
   ],
   "source": [
    "x = 'MATHEMATICS'\n",
    "for alpha in x:\n",
    "    if alpha == 'A':\n",
    "        pass\n",
    "    print(alpha)\n",
    "    "
   ]
  },
  {
   "cell_type": "code",
   "execution_count": 28,
   "id": "f26bda92",
   "metadata": {
    "scrolled": true
   },
   "outputs": [
    {
     "name": "stdout",
     "output_type": "stream",
     "text": [
      "M\n",
      "T\n",
      "H\n",
      "E\n",
      "M\n",
      "T\n",
      "I\n",
      "C\n",
      "S\n"
     ]
    }
   ],
   "source": [
    "x = 'MATHEMATICS'\n",
    "for alpha in x:\n",
    "    if alpha == 'A':\n",
    "        continue\n",
    "    print(alpha)\n",
    "    "
   ]
  },
  {
   "cell_type": "code",
   "execution_count": 29,
   "id": "aadaef2b",
   "metadata": {},
   "outputs": [
    {
     "name": "stdout",
     "output_type": "stream",
     "text": [
      "M\n"
     ]
    }
   ],
   "source": [
    "x = 'MATHEMATICS'\n",
    "for alpha in x:\n",
    "    if alpha == 'A':\n",
    "        break\n",
    "    print(alpha)\n",
    "    "
   ]
  },
  {
   "cell_type": "code",
   "execution_count": 30,
   "id": "21432112",
   "metadata": {},
   "outputs": [
    {
     "name": "stdout",
     "output_type": "stream",
     "text": [
      "M\n",
      "A\n",
      "T\n",
      "H\n",
      "E\n",
      "M\n",
      "A\n",
      "T\n",
      "I\n",
      "C\n",
      "S\n"
     ]
    }
   ],
   "source": [
    "x = 'MATHEMATICS'\n",
    "for alpha in x:\n",
    "    if alpha == 'Z':\n",
    "        pass\n",
    "    print(alpha)\n",
    "    "
   ]
  },
  {
   "cell_type": "code",
   "execution_count": 33,
   "id": "6e18c4e8",
   "metadata": {},
   "outputs": [
    {
     "name": "stdout",
     "output_type": "stream",
     "text": [
      "\n",
      "enter a password: a\n",
      "Incorrect attempt: 1\n",
      "\n",
      "enter a password: a\n",
      "Incorrect attempt: 2\n",
      "\n",
      "enter a password: a\n",
      "Incorrect attempt: 3\n"
     ]
    }
   ],
   "source": [
    "for chance in range(1,4):\n",
    "    password = input('\\nenter a password: ')\n",
    "    if password == 'Talha':\n",
    "        print('--correct password\\n---Unlocking your Phone')\n",
    "        break\n",
    "    print(f'Incorrect attempt: {chance }')"
   ]
  },
  {
   "cell_type": "markdown",
   "id": "a9cfe93a",
   "metadata": {},
   "source": [
    "# ZIP AND ENUMERATE"
   ]
  },
  {
   "cell_type": "markdown",
   "id": "f3bd4807",
   "metadata": {},
   "source": [
    "# ZIP"
   ]
  },
  {
   "cell_type": "code",
   "execution_count": 34,
   "id": "ddaa190b",
   "metadata": {},
   "outputs": [],
   "source": [
    "# O zip can combine elements from two or more list into tuple"
   ]
  },
  {
   "cell_type": "code",
   "execution_count": null,
   "id": "1a0ae929",
   "metadata": {},
   "outputs": [],
   "source": [
    "# Enumerate can genreate an integer number next to each ouput"
   ]
  },
  {
   "cell_type": "code",
   "execution_count": 35,
   "id": "cb827aba",
   "metadata": {},
   "outputs": [
    {
     "name": "stdout",
     "output_type": "stream",
     "text": [
      "10\n",
      "15\n"
     ]
    }
   ],
   "source": [
    "for w in range (10, 20, 5):\n",
    "    print(w)"
   ]
  },
  {
   "cell_type": "code",
   "execution_count": 41,
   "id": "adc8f222",
   "metadata": {},
   "outputs": [
    {
     "name": "stdout",
     "output_type": "stream",
     "text": [
      "0 10\n",
      "1 15\n",
      "2 20\n",
      "3 25\n",
      "4 30\n",
      "5 35\n",
      "6 40\n",
      "7 45\n"
     ]
    }
   ],
   "source": [
    "for count, w in enumerate(range(10, 50, 5)):\n",
    "    print(count, w)"
   ]
  },
  {
   "cell_type": "code",
   "execution_count": 43,
   "id": "be0d862b",
   "metadata": {},
   "outputs": [
    {
     "name": "stdout",
     "output_type": "stream",
     "text": [
      "100 10\n",
      "101 15\n",
      "102 20\n",
      "103 25\n",
      "104 30\n",
      "105 35\n",
      "106 40\n",
      "107 45\n"
     ]
    }
   ],
   "source": [
    "for count, w in enumerate(range(10, 50, 5), 100):\n",
    "    print(count, w)"
   ]
  },
  {
   "cell_type": "code",
   "execution_count": 44,
   "id": "3509f3d4",
   "metadata": {},
   "outputs": [
    {
     "name": "stdout",
     "output_type": "stream",
     "text": [
      "500 10\n",
      "501 60\n",
      "502 110\n",
      "503 160\n",
      "504 210\n",
      "505 260\n",
      "506 310\n",
      "507 360\n",
      "508 410\n",
      "509 460\n"
     ]
    }
   ],
   "source": [
    "for count, w in enumerate(range(10, 500, 50), 500):\n",
    "    print(count, w)"
   ]
  },
  {
   "cell_type": "code",
   "execution_count": 46,
   "id": "330800b4",
   "metadata": {},
   "outputs": [
    {
     "data": {
      "text/plain": [
       "<zip at 0x1e9e619d340>"
      ]
     },
     "execution_count": 46,
     "metadata": {},
     "output_type": "execute_result"
    }
   ],
   "source": [
    "tup1 = (33, 44, 55)\n",
    "mylist = [10, 20, 30]\n",
    "z= zip(tup1, mylist)\n",
    "z"
   ]
  },
  {
   "cell_type": "code",
   "execution_count": 66,
   "id": "4bb37c0f",
   "metadata": {},
   "outputs": [
    {
     "data": {
      "text/plain": [
       "[(33, 10), (44, 20), (55, 30)]"
      ]
     },
     "execution_count": 66,
     "metadata": {},
     "output_type": "execute_result"
    }
   ],
   "source": [
    "tup1 = (33, 44, 55)\n",
    "mylist = [10, 20, 30]\n",
    "z= list(zip(tup1, mylist))\n",
    "z"
   ]
  },
  {
   "cell_type": "code",
   "execution_count": 67,
   "id": "90dc053c",
   "metadata": {},
   "outputs": [
    {
     "data": {
      "text/plain": [
       "[(33, 10), (44, 20), (55, 30)]"
      ]
     },
     "execution_count": 67,
     "metadata": {},
     "output_type": "execute_result"
    }
   ],
   "source": [
    "z"
   ]
  },
  {
   "cell_type": "code",
   "execution_count": 68,
   "id": "0364d312",
   "metadata": {},
   "outputs": [
    {
     "data": {
      "text/plain": [
       "list"
      ]
     },
     "execution_count": 68,
     "metadata": {},
     "output_type": "execute_result"
    }
   ],
   "source": [
    "type(z)"
   ]
  },
  {
   "cell_type": "code",
   "execution_count": 69,
   "id": "b6caded1",
   "metadata": {},
   "outputs": [
    {
     "data": {
      "text/plain": [
       "<zip at 0x1e9e61c8e00>"
      ]
     },
     "execution_count": 69,
     "metadata": {},
     "output_type": "execute_result"
    }
   ],
   "source": [
    "tup1 = (33, 44, 55)\n",
    "mylist = [10, 20, 30]\n",
    "z= zip(tup1, mylist)\n",
    "z"
   ]
  },
  {
   "cell_type": "code",
   "execution_count": 70,
   "id": "ca370476",
   "metadata": {},
   "outputs": [
    {
     "data": {
      "text/plain": [
       "zip"
      ]
     },
     "execution_count": 70,
     "metadata": {},
     "output_type": "execute_result"
    }
   ],
   "source": [
    "type(z)"
   ]
  },
  {
   "cell_type": "code",
   "execution_count": 78,
   "id": "add3f6ab",
   "metadata": {},
   "outputs": [],
   "source": [
    "for a, b in z:\n",
    "    print(a*b)"
   ]
  },
  {
   "cell_type": "code",
   "execution_count": 71,
   "id": "8250bbf7",
   "metadata": {},
   "outputs": [
    {
     "data": {
      "text/plain": [
       "range(0, 5)"
      ]
     },
     "execution_count": 71,
     "metadata": {},
     "output_type": "execute_result"
    }
   ],
   "source": [
    "(range(0, 5))"
   ]
  },
  {
   "cell_type": "code",
   "execution_count": 72,
   "id": "d9566b23",
   "metadata": {},
   "outputs": [
    {
     "data": {
      "text/plain": [
       "[0, 1, 2, 3, 4]"
      ]
     },
     "execution_count": 72,
     "metadata": {},
     "output_type": "execute_result"
    }
   ],
   "source": [
    "list(range(0, 5))"
   ]
  },
  {
   "cell_type": "code",
   "execution_count": 73,
   "id": "c4377de3",
   "metadata": {},
   "outputs": [
    {
     "name": "stdout",
     "output_type": "stream",
     "text": [
      "43\n",
      "64\n",
      "85\n"
     ]
    }
   ],
   "source": [
    "for t, m in z:\n",
    "    print(t+m)"
   ]
  },
  {
   "cell_type": "code",
   "execution_count": 83,
   "id": "98d32ff0",
   "metadata": {},
   "outputs": [],
   "source": [
    "for t, m in z:\n",
    "    print(t*m)"
   ]
  },
  {
   "cell_type": "code",
   "execution_count": 84,
   "id": "092d1035",
   "metadata": {},
   "outputs": [
    {
     "data": {
      "text/plain": [
       "1650"
      ]
     },
     "execution_count": 84,
     "metadata": {},
     "output_type": "execute_result"
    }
   ],
   "source": [
    "t*m"
   ]
  },
  {
   "cell_type": "code",
   "execution_count": null,
   "id": "7bc09c17",
   "metadata": {},
   "outputs": [],
   "source": []
  },
  {
   "cell_type": "code",
   "execution_count": null,
   "id": "20f98e3e",
   "metadata": {},
   "outputs": [],
   "source": []
  },
  {
   "cell_type": "code",
   "execution_count": 79,
   "id": "16783a5f",
   "metadata": {},
   "outputs": [
    {
     "name": "stdout",
     "output_type": "stream",
     "text": [
      "43\n",
      "64\n",
      "85\n"
     ]
    }
   ],
   "source": [
    "for i in range(3):\n",
    "    print(tup1[i] + mylist[i])"
   ]
  },
  {
   "cell_type": "code",
   "execution_count": 81,
   "id": "f23e6857",
   "metadata": {},
   "outputs": [
    {
     "name": "stdout",
     "output_type": "stream",
     "text": [
      "apples = 2\n",
      "chips = 3\n",
      "breads = 1.2\n",
      "eggs = 40\n"
     ]
    }
   ],
   "source": [
    "groceries = ['apples', 'chips', 'breads', 'eggs']\n",
    "prices = [2, 3, 1.2, 40]\n",
    "for food in range(4):\n",
    "    print(groceries[food], '=', prices[food])"
   ]
  },
  {
   "cell_type": "code",
   "execution_count": 86,
   "id": "2c862086",
   "metadata": {},
   "outputs": [
    {
     "data": {
      "text/plain": [
       "<zip at 0x1e9e625ac80>"
      ]
     },
     "execution_count": 86,
     "metadata": {},
     "output_type": "execute_result"
    }
   ],
   "source": [
    "zip_shop = (zip(groceries, prices))\n",
    "zip_shop"
   ]
  },
  {
   "cell_type": "code",
   "execution_count": 87,
   "id": "38b2bdf9",
   "metadata": {},
   "outputs": [
    {
     "name": "stdout",
     "output_type": "stream",
     "text": [
      "apples = 2\n",
      "chips = 3\n",
      "breads = 1.2\n",
      "eggs = 40\n"
     ]
    }
   ],
   "source": [
    "for g, p in zip_shop:\n",
    "    print(g, '=', p)"
   ]
  },
  {
   "cell_type": "code",
   "execution_count": null,
   "id": "871eaff6",
   "metadata": {},
   "outputs": [],
   "source": []
  }
 ],
 "metadata": {
  "kernelspec": {
   "display_name": "Python 3 (ipykernel)",
   "language": "python",
   "name": "python3"
  },
  "language_info": {
   "codemirror_mode": {
    "name": "ipython",
    "version": 3
   },
   "file_extension": ".py",
   "mimetype": "text/x-python",
   "name": "python",
   "nbconvert_exporter": "python",
   "pygments_lexer": "ipython3",
   "version": "3.9.12"
  }
 },
 "nbformat": 4,
 "nbformat_minor": 5
}
