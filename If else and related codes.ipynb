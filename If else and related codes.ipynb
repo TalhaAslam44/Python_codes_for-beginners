{
 "cells": [
  {
   "cell_type": "code",
   "execution_count": 1,
   "id": "12122777",
   "metadata": {},
   "outputs": [
    {
     "name": "stdout",
     "output_type": "stream",
     "text": [
      "true\n"
     ]
    }
   ],
   "source": [
    "if 10==10:\n",
    "    print('true')  \n",
    "elif 8==7:\n",
    "    print('xyz')\n",
    "else:\n",
    "    print('nothing')\n",
    "    \n",
    "  "
   ]
  },
  {
   "cell_type": "code",
   "execution_count": 2,
   "id": "96c4e806",
   "metadata": {},
   "outputs": [
    {
     "data": {
      "text/plain": [
       "False"
      ]
     },
     "execution_count": 2,
     "metadata": {},
     "output_type": "execute_result"
    }
   ],
   "source": [
    "8==7"
   ]
  },
  {
   "cell_type": "code",
   "execution_count": 3,
   "id": "2a85f3e0",
   "metadata": {},
   "outputs": [],
   "source": [
    "a=10;b=25;c=100;d=('cat','dog','bird')"
   ]
  },
  {
   "cell_type": "code",
   "execution_count": 4,
   "id": "a5f38e8e",
   "metadata": {},
   "outputs": [
    {
     "name": "stdout",
     "output_type": "stream",
     "text": [
      "this is true\n"
     ]
    }
   ],
   "source": [
    "if a==10 and b<40:\n",
    "    print('this is true')"
   ]
  },
  {
   "cell_type": "code",
   "execution_count": 5,
   "id": "3eed4478",
   "metadata": {},
   "outputs": [
    {
     "data": {
      "text/plain": [
       "False"
      ]
     },
     "execution_count": 5,
     "metadata": {},
     "output_type": "execute_result"
    }
   ],
   "source": [
    "a==10 and b<4"
   ]
  },
  {
   "cell_type": "code",
   "execution_count": 6,
   "id": "afeaabea",
   "metadata": {},
   "outputs": [
    {
     "data": {
      "text/plain": [
       "True"
      ]
     },
     "execution_count": 6,
     "metadata": {},
     "output_type": "execute_result"
    }
   ],
   "source": [
    "a==10 or b<4"
   ]
  },
  {
   "cell_type": "code",
   "execution_count": 7,
   "id": "14cda1dc",
   "metadata": {},
   "outputs": [
    {
     "name": "stdout",
     "output_type": "stream",
     "text": [
      "this is false\n"
     ]
    }
   ],
   "source": [
    "if a==100 and b<40:\n",
    "    print('this is true')\n",
    "else:\n",
    "    print('this is false')"
   ]
  },
  {
   "cell_type": "code",
   "execution_count": 8,
   "id": "580a0561",
   "metadata": {},
   "outputs": [
    {
     "data": {
      "text/plain": [
       "False"
      ]
     },
     "execution_count": 8,
     "metadata": {},
     "output_type": "execute_result"
    }
   ],
   "source": [
    "a==9"
   ]
  },
  {
   "cell_type": "code",
   "execution_count": 9,
   "id": "2dc958d6",
   "metadata": {},
   "outputs": [
    {
     "name": "stdout",
     "output_type": "stream",
     "text": [
      "a is true\n",
      "b is true\n",
      "c is true\n"
     ]
    }
   ],
   "source": [
    "if a==10:\n",
    "    print('a is true')\n",
    "    if b<40:\n",
    "        print('b is true')\n",
    "        if c==100:\n",
    "            print('c is true')\n",
    "        else:\n",
    "            print('c is false')\n",
    "    else:\n",
    "        print('b is false')\n",
    "else:\n",
    "    print('a is false')\n",
    "        "
   ]
  },
  {
   "cell_type": "code",
   "execution_count": 10,
   "id": "8eb7ebef",
   "metadata": {},
   "outputs": [],
   "source": [
    "a =10; b =25; c =100; d =(\"cat\", \"dog\", \"bird\")"
   ]
  },
  {
   "cell_type": "code",
   "execution_count": 11,
   "id": "40ece22b",
   "metadata": {},
   "outputs": [
    {
     "name": "stdout",
     "output_type": "stream",
     "text": [
      "a is true!\n",
      "b is true!\n",
      " c is true!\n",
      "d is True!\n"
     ]
    }
   ],
   "source": [
    "if a==10:\n",
    "    print(\"a is true!\")\n",
    "    \n",
    "    if b<40:\n",
    "        print(\"b is true!\")\n",
    "        \n",
    "        if c>9:\n",
    "            print(\" c is true!\")\n",
    "            \n",
    "            if \"bird\" in d:\n",
    "                print(\"d is True!\")\n",
    "            else:\n",
    "                print(\"d is False!\")\n",
    "        else:\n",
    "            print(\"c is False!\")\n",
    "    else:\n",
    "        print(\"b is False!\")\n",
    "else:\n",
    "    print(\"a is False!\")"
   ]
  },
  {
   "cell_type": "code",
   "execution_count": 15,
   "id": "3e51f2bc",
   "metadata": {},
   "outputs": [
    {
     "name": "stdout",
     "output_type": "stream",
     "text": [
      "Enter a number: 2\n"
     ]
    }
   ],
   "source": [
    "num = eval(input(\"Enter a number: \"))\n",
    "\n",
    "if num>=3:\n",
    "    print(\" keep looking!\")\n",
    "    \n",
    "elif d[num] == \"cat\":\n",
    "    print(\"Found a ()\".format(d[dum]))\n",
    "    \n",
    "\n",
    "elif d[num] == \"dog\":\n",
    "    print(\"Found a ()\".format(d[num]))\n",
    "    "
   ]
  },
  {
   "cell_type": "code",
   "execution_count": 16,
   "id": "f8cad5e9",
   "metadata": {},
   "outputs": [
    {
     "data": {
      "text/plain": [
       "('cat', 'dog', 'bird')"
      ]
     },
     "execution_count": 16,
     "metadata": {},
     "output_type": "execute_result"
    }
   ],
   "source": [
    "d"
   ]
  },
  {
   "cell_type": "code",
   "execution_count": null,
   "id": "ce8ea6c2",
   "metadata": {},
   "outputs": [],
   "source": []
  },
  {
   "cell_type": "code",
   "execution_count": null,
   "id": "7493d0df",
   "metadata": {},
   "outputs": [],
   "source": []
  },
  {
   "cell_type": "code",
   "execution_count": 17,
   "id": "359bb630",
   "metadata": {},
   "outputs": [
    {
     "data": {
      "text/plain": [
       "[[0, 1, 2, 3, 4, 5, 6, 7, 8, 9, 10],\n",
       " [11, 12, 13, 14, 15, 16, 17, 18, 19, 20],\n",
       " [21, 22, 23, 24, 25, 26, 27, 28, 29, 30]]"
      ]
     },
     "execution_count": 17,
     "metadata": {},
     "output_type": "execute_result"
    }
   ],
   "source": [
    "total = [list(range(11)), list(range(11,21)), list(range(21,31))]\n",
    "total"
   ]
  },
  {
   "cell_type": "code",
   "execution_count": 21,
   "id": "cbbe441a",
   "metadata": {},
   "outputs": [
    {
     "name": "stdout",
     "output_type": "stream",
     "text": [
      "Enter a number:11\n",
      "11 in list two\n"
     ]
    }
   ],
   "source": [
    "v = eval(input(\"Enter a number:\"))\n",
    "\n",
    "if v in total[0]:\n",
    "    print(v,\"in list one\")\n",
    "    \n",
    "elif v in total[1]:\n",
    "    print(v, \"in list two\")\n",
    "    \n",
    "elif v in total[2]:\n",
    "    print(v, \"in list three\")"
   ]
  },
  {
   "cell_type": "code",
   "execution_count": null,
   "id": "1a17b9f4",
   "metadata": {},
   "outputs": [],
   "source": []
  },
  {
   "cell_type": "code",
   "execution_count": null,
   "id": "731a5d96",
   "metadata": {},
   "outputs": [],
   "source": []
  }
 ],
 "metadata": {
  "kernelspec": {
   "display_name": "Python 3 (ipykernel)",
   "language": "python",
   "name": "python3"
  },
  "language_info": {
   "codemirror_mode": {
    "name": "ipython",
    "version": 3
   },
   "file_extension": ".py",
   "mimetype": "text/x-python",
   "name": "python",
   "nbconvert_exporter": "python",
   "pygments_lexer": "ipython3",
   "version": "3.9.12"
  }
 },
 "nbformat": 4,
 "nbformat_minor": 5
}
